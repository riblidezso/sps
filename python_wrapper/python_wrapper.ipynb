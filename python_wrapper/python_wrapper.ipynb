{
 "cells": [
  {
   "cell_type": "markdown",
   "metadata": {},
   "source": [
    "### Write the python wrapper classes"
   ]
  },
  {
   "cell_type": "code",
   "execution_count": 1,
   "metadata": {
    "collapsed": false
   },
   "outputs": [],
   "source": [
    "from ctypes import *\n",
    "import numpy as np\n",
    "\n",
    "lib = cdll.LoadLibrary('./sps_fast_utils.so')\n",
    "libcpu = cdll.LoadLibrary('./sps_fast_utils_cpu.so')\n",
    "\n",
    "class Spectrum_generator_cpu(object):\n",
    "    \"\"\"Cpu only spectrum generator\"\"\"\n",
    "    \n",
    "    def __init__(self,measurement_file='../input/testspec1.csv',imf='chabrier'):\n",
    "        \"\"\"\n",
    "        Create a new spectrum generator instance.\n",
    "            -free it later?\n",
    "        \n",
    "        \"\"\"\n",
    "        #specify return type\n",
    "        libcpu.spectrum_generator_cpu_new.restype = c_void_p\n",
    "        # get a spectrum generator class\n",
    "        self.obj = libcpu.spectrum_generator_cpu_new(measurement_file,imf)\n",
    "        #set result pointer to None\n",
    "        self.res_pointer=None\n",
    "        \n",
    "        \n",
    "    \n",
    "    def generate_spec(self,sfr=None,age=1e9,vdisp=150, metall=0.001,sfr_tau=1e8,\n",
    "                      dust_tau_v=1.0,dust_mu=0.7):\n",
    "        \"\"\"Generate spectrum.\"\"\"\n",
    "        if sfr is None:\n",
    "            return self.generate_spec_exp(age,vdisp, metall,sfr_tau,dust_tau_v,dust_mu)\n",
    "        else:\n",
    "            return self.generate_spec_sfr(sfr,age,vdisp, metall,sfr_tau,dust_tau_v,dust_mu)\n",
    "        \n",
    "    def generate_spec_exp(self,age,vdisp, metall,sfr_tau,dust_tau_v,dust_mu):\n",
    "        \"\"\"Generate spectrum.\"\"\"\n",
    "        #specify args and results of spectrum generator\n",
    "        libcpu.generate_spec_cpu_exp.argtypes  = [c_void_p,c_double,c_double,c_double,c_double,c_double,c_double,c_void_p]\n",
    "        libcpu.generate_spec_cpu_exp.restype = c_void_p\n",
    "        \n",
    "        #free pointer of result\n",
    "        libcpu.freeme.argtypes = c_void_p,\n",
    "        libcpu.freeme.restype = None\n",
    "        if self.res_pointer!=None:\n",
    "            libcpu.freeme(self.res_pointer)\n",
    "\n",
    "        #generate specrtrum\n",
    "        result_size=c_int()\n",
    "        self.res_pointer=libcpu.generate_spec_cpu_exp(self.obj,age,vdisp, metall,sfr_tau,dust_tau_v,dust_mu,byref(result_size))\n",
    "        \n",
    "        #return spectrum as numpy array\n",
    "        return np.ctypeslib.as_array(cast(self.res_pointer,POINTER(c_double)),shape=(result_size.value,))\n",
    "    \n",
    "    def generate_spec_sfr(self,sfr,age,vdisp, metall,sfr_tau,dust_tau_v,dust_mu):\n",
    "        \"\"\"Generate spectrum.\"\"\"\n",
    "        #specify args and results of spectrum generator\n",
    "        libcpu.generate_spec_cpu_sfr_vec.argtypes  = [c_void_p,c_double,c_double,c_double,c_double,c_double,c_double,c_void_p,c_void_p]\n",
    "        libcpu.generate_spec_cpu_sfr_vec.restype = c_void_p\n",
    "        \n",
    "        #free pointer of result\n",
    "        libcpu.freeme.argtypes = c_void_p,\n",
    "        libcpu.freeme.restype = None\n",
    "        if self.res_pointer!=None:\n",
    "            libcpu.freeme(self.res_pointer)\n",
    "\n",
    "        #generate specrtrum\n",
    "        result_size=c_int()\n",
    "        self.res_pointer=libcpu.generate_spec_cpu_sfr_vec(self.obj,age,vdisp, metall,sfr_tau,dust_tau_v,dust_mu,c_void_p(sfr.ctypes.data),byref(result_size),)\n",
    "        \n",
    "        #return spectrum as numpy array\n",
    "        return np.ctypeslib.as_array(cast(self.res_pointer,POINTER(c_double)),shape=(result_size.value,))\n",
    "    \n",
    "    \n",
    "    def __del__(self):\n",
    "        \"\"\"Free the memory of the spectrum generator class.\"\"\"\n",
    "        libcpu.free_spec_gen_cpu.argtypes = c_void_p,\n",
    "        libcpu.free_spec_gen_cpu.restype = None\n",
    "        libcpu.free_spec_gen_cpu(self.obj)\n",
    "        \n",
    "        \n",
    "\n",
    "\n",
    "class Spectrum_generator(object):\n",
    "    \"\"\"Opencl spectrum generator\"\"\"\n",
    "    \n",
    "    def __init__(self,measurement_file='../input/testspec1.csv',imf='chabrier',\n",
    "                platform=0,device=0):\n",
    "        \"\"\"\n",
    "        Create a new spectrum generator instance.\n",
    "            -free it later?\n",
    "        \n",
    "        \"\"\"\n",
    "        #specify return type\n",
    "        lib.spectrum_generator_new.restype = c_void_p\n",
    "        # get a spectrum generator class\n",
    "        self.obj = lib.spectrum_generator_new(measurement_file,imf,platform,device)\n",
    "        #set result pointer to None\n",
    "        self.res_pointer=None\n",
    "        \n",
    "    def generate_spec(self,sfr=None,age=1e9,vdisp=150, metall=0.001,sfr_tau=1e8,\n",
    "                      dust_tau_v=1.0,dust_mu=0.7):\n",
    "        \"\"\"Generate spectrum.\"\"\"\n",
    "        if sfr is None:\n",
    "            return self.generate_spec_exp(age,vdisp, metall,sfr_tau,dust_tau_v,dust_mu)\n",
    "        else:\n",
    "            return self.generate_spec_sfr(sfr,age,vdisp, metall,sfr_tau,dust_tau_v,dust_mu)\n",
    "        \n",
    "    def generate_spec_exp(self,age,vdisp, metall,sfr_tau,dust_tau_v,dust_mu):\n",
    "        \"\"\"Generate spectrum.\"\"\"\n",
    "        #specify args and results of spectrum generator\n",
    "        lib.generate_spec_exp.argtypes  = [c_void_p,c_double,c_double,c_double,c_double,c_double,c_double,c_void_p]\n",
    "        lib.generate_spec_exp.restype = c_void_p\n",
    "        \n",
    "        #free pointer of result\n",
    "        lib.freeme.argtypes = c_void_p,\n",
    "        lib.freeme.restype = None\n",
    "        if self.res_pointer!=None:\n",
    "            lib.freeme(self.res_pointer)\n",
    "\n",
    "        #generate specrtrum\n",
    "        result_size=c_int()\n",
    "        self.res_pointer=lib.generate_spec_exp(self.obj,age,vdisp, metall,sfr_tau,dust_tau_v,dust_mu,byref(result_size))\n",
    "        \n",
    "        #return spectrum as numpy array\n",
    "        return np.ctypeslib.as_array(cast(self.res_pointer,POINTER(c_double)),shape=(result_size.value,))\n",
    "    \n",
    "    def generate_spec_sfr(self,sfr,age,vdisp, metall,sfr_tau,dust_tau_v,dust_mu):\n",
    "        \"\"\"Generate spectrum.\"\"\"\n",
    "        #specify args and results of spectrum generator\n",
    "        lib.generate_spec_sfr_vec.argtypes  = [c_void_p,c_double,c_double,c_double,c_double,c_double,c_double,c_void_p,c_void_p]\n",
    "        lib.generate_spec_sfr_vec.restype = c_void_p\n",
    "        \n",
    "        #free pointer of result\n",
    "        lib.freeme.argtypes = c_void_p,\n",
    "        lib.freeme.restype = None\n",
    "        if self.res_pointer!=None:\n",
    "            lib.freeme(self.res_pointer)\n",
    "\n",
    "        #generate specrtrum\n",
    "        result_size=c_int()\n",
    "        self.res_pointer=lib.generate_spec_sfr_vec(self.obj,age,vdisp, metall,sfr_tau,dust_tau_v,dust_mu,c_void_p(sfr.ctypes.data),byref(result_size),)\n",
    "        \n",
    "        #return spectrum as numpy array\n",
    "        return np.ctypeslib.as_array(cast(self.res_pointer,POINTER(c_double)),shape=(result_size.value,))\n",
    "    \n",
    "    def __del__(self):\n",
    "        \"\"\"Free the memory of the spectrum generator class.\"\"\"\n",
    "        lib.free_spec_gen.argtypes = c_void_p,\n",
    "        lib.free_spec_gen.restype = None\n",
    "        lib.free_spec_gen(self.obj)"
   ]
  },
  {
   "cell_type": "markdown",
   "metadata": {},
   "source": [
    "# Test it"
   ]
  },
  {
   "cell_type": "code",
   "execution_count": 2,
   "metadata": {
    "collapsed": true
   },
   "outputs": [],
   "source": [
    "import time\n",
    "import matplotlib.pyplot as plt\n",
    "%matplotlib inline"
   ]
  },
  {
   "cell_type": "markdown",
   "metadata": {},
   "source": [
    "### Opencl with exponential star formation"
   ]
  },
  {
   "cell_type": "code",
   "execution_count": 3,
   "metadata": {
    "collapsed": false
   },
   "outputs": [
    {
     "name": "stdout",
     "output_type": "stream",
     "text": [
      "0.0124268531799\n"
     ]
    }
   ],
   "source": [
    "#create instance\n",
    "my_spec_gen=Spectrum_generator(measurement_file='../input/testspec1.csv',imf='chabrier',platform=0,device=0)\n",
    "\n",
    "#generate a spectrum\n",
    "start=time.time()\n",
    "res=my_spec_gen.generate_spec(age=1e9,vdisp=150, metall=0.001,sfr_tau=1e8,dust_tau_v=1.0,dust_mu=0.7)\n",
    "print time.time()-start"
   ]
  },
  {
   "cell_type": "markdown",
   "metadata": {},
   "source": [
    "### Cpu only with exponential star formation"
   ]
  },
  {
   "cell_type": "code",
   "execution_count": 4,
   "metadata": {
    "collapsed": false
   },
   "outputs": [
    {
     "name": "stdout",
     "output_type": "stream",
     "text": [
      "0.0176939964294\n"
     ]
    }
   ],
   "source": [
    "#create instance\n",
    "my_spec_gen_cpu=Spectrum_generator_cpu(measurement_file='../input/testspec1.csv',imf='chabrier')\n",
    "\n",
    "#generate a spectrum\n",
    "start=time.time()\n",
    "res_cpu=my_spec_gen_cpu.generate_spec(age=1e9,vdisp=150, metall=0.001,sfr_tau=1e8,dust_tau_v=1.0,dust_mu=0.7)\n",
    "print time.time()-start"
   ]
  },
  {
   "cell_type": "code",
   "execution_count": 5,
   "metadata": {
    "collapsed": false
   },
   "outputs": [
    {
     "name": "stdout",
     "output_type": "stream",
     "text": [
      "max diff: 2.54056467428e-10\n"
     ]
    },
    {
     "data": {
      "text/plain": [
       "[<matplotlib.lines.Line2D at 0x11352fd90>]"
      ]
     },
     "execution_count": 5,
     "metadata": {},
     "output_type": "execute_result"
    },
    {
     "data": {
      "image/png": "[encoded data removed]",
      "text/plain": [
       "<matplotlib.figure.Figure at 0x106317690>"
      ]
     },
     "metadata": {},
     "output_type": "display_data"
    }
   ],
   "source": [
    "print 'max diff:',np.max((res-res_cpu)**2/(res*res_cpu))\n",
    "plt.plot(res)"
   ]
  },
  {
   "cell_type": "markdown",
   "metadata": {},
   "source": [
    "### Opencl  with user defined start formation"
   ]
  },
  {
   "cell_type": "code",
   "execution_count": 6,
   "metadata": {
    "collapsed": false
   },
   "outputs": [
    {
     "name": "stdout",
     "output_type": "stream",
     "text": [
      "0.0104908943176\n"
     ]
    }
   ],
   "source": [
    "#generate a spectrum\n",
    "start=time.time()\n",
    "res=my_spec_gen.generate_spec(age=1e9,vdisp=150, metall=0.001,sfr_tau=1e8,dust_tau_v=1.0,dust_mu=0.7,\n",
    "                                     sfr=np.ones(221))\n",
    "print time.time()-start"
   ]
  },
  {
   "cell_type": "markdown",
   "metadata": {},
   "source": [
    "### Cpu only with user defined start formation"
   ]
  },
  {
   "cell_type": "code",
   "execution_count": 7,
   "metadata": {
    "collapsed": false
   },
   "outputs": [
    {
     "name": "stdout",
     "output_type": "stream",
     "text": [
      "0.0320780277252\n"
     ]
    }
   ],
   "source": [
    "#generate a spectrum\n",
    "start=time.time()\n",
    "res_cpu=my_spec_gen_cpu.generate_spec(age=1e9,vdisp=150, metall=0.001,sfr_tau=1e8,dust_tau_v=1.0,dust_mu=0.7,\n",
    "                                     sfr=np.ones(221))\n",
    "print time.time()-start"
   ]
  },
  {
   "cell_type": "code",
   "execution_count": 8,
   "metadata": {
    "collapsed": false
   },
   "outputs": [
    {
     "name": "stdout",
     "output_type": "stream",
     "text": [
      "max diff: 2.45857598465e-10\n"
     ]
    },
    {
     "data": {
      "text/plain": [
       "[<matplotlib.lines.Line2D at 0x113e69ed0>]"
      ]
     },
     "execution_count": 8,
     "metadata": {},
     "output_type": "execute_result"
    },
    {
     "data": {
      "image/png": "[encoded data removed]",
      "text/plain": [
       "<matplotlib.figure.Figure at 0x104acf490>"
      ]
     },
     "metadata": {},
     "output_type": "display_data"
    }
   ],
   "source": [
    "print 'max diff:',np.max((res-res_cpu)**2/(res*res_cpu))\n",
    "plt.plot(res)"
   ]
  }
 ],
 "metadata": {
  "kernelspec": {
   "display_name": "Python 2",
   "language": "python",
   "name": "python2"
  },
  "language_info": {
   "codemirror_mode": {
    "name": "ipython",
    "version": 2
   },
   "file_extension": ".py",
   "mimetype": "text/x-python",
   "name": "python",
   "nbconvert_exporter": "python",
   "pygments_lexer": "ipython2",
   "version": "2.7.11"
  }
 },
 "nbformat": 4,
 "nbformat_minor": 0
}
